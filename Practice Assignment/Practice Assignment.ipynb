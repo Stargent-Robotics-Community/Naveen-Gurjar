{
 "cells": [
  {
   "cell_type": "code",
   "execution_count": 1,
   "id": "ce89a436",
   "metadata": {},
   "outputs": [],
   "source": [
    "shows = [\"GOT\", \"Stranger things\", \"Sherlock holmes\", \"Haikyuu\", \"Naruto\"]"
   ]
  },
  {
   "cell_type": "code",
   "execution_count": 2,
   "id": "64738b9f",
   "metadata": {},
   "outputs": [
    {
     "name": "stdout",
     "output_type": "stream",
     "text": [
      "GOT\n",
      "Stranger things\n",
      "Sherlock holmes\n",
      "Haikyuu\n",
      "Naruto\n"
     ]
    }
   ],
   "source": [
    "for i in shows:\n",
    "    print(i)"
   ]
  },
  {
   "cell_type": "code",
   "execution_count": 3,
   "id": "88a8be54",
   "metadata": {},
   "outputs": [
    {
     "name": "stdout",
     "output_type": "stream",
     "text": [
      "Enter the name of show: One Piece\n",
      "Enter the name of show: AOT\n"
     ]
    }
   ],
   "source": [
    "shows.append(input(\"Enter the name of show: \"))\n",
    "shows.append(input(\"Enter the name of show: \"))"
   ]
  },
  {
   "cell_type": "code",
   "execution_count": 4,
   "id": "19961f72",
   "metadata": {},
   "outputs": [
    {
     "data": {
      "text/plain": [
       "['GOT',\n",
       " 'Stranger things',\n",
       " 'Sherlock holmes',\n",
       " 'Haikyuu',\n",
       " 'Naruto',\n",
       " 'One Piece',\n",
       " 'AOT']"
      ]
     },
     "execution_count": 4,
     "metadata": {},
     "output_type": "execute_result"
    }
   ],
   "source": [
    "shows"
   ]
  },
  {
   "cell_type": "code",
   "execution_count": 13,
   "id": "42dcd8cf",
   "metadata": {},
   "outputs": [
    {
     "name": "stdout",
     "output_type": "stream",
     "text": [
      "['Stranger things', 'Haikyuu', 'One Piece']\n"
     ]
    }
   ],
   "source": [
    "print(shows[1:7:2])"
   ]
  },
  {
   "cell_type": "code",
   "execution_count": 14,
   "id": "0107e248",
   "metadata": {},
   "outputs": [
    {
     "name": "stdout",
     "output_type": "stream",
     "text": [
      "15\n"
     ]
    }
   ],
   "source": [
    "num = [1, 2, 3, 4, 5]\n",
    "i=0\n",
    "total = 0\n",
    "j = 0\n",
    "while i < len(num):\n",
    "    j = num[i]\n",
    "    total = total + j\n",
    "    i = i + 1\n",
    "print(total)"
   ]
  },
  {
   "cell_type": "code",
   "execution_count": 46,
   "id": "7eb5d989",
   "metadata": {},
   "outputs": [
    {
     "name": "stdout",
     "output_type": "stream",
     "text": [
      "1\r\n",
      "12\r\n",
      "123\r\n",
      "1234\r\n",
      "12345\r\n"
     ]
    }
   ],
   "source": [
    "for i in range(1,6):\n",
    "    #num = 1\n",
    "    for j in range(1, i+1):\n",
    "        print(j, end =\"\" )\n",
    "        #num = num+1\n",
    "    print(\"\\r\")"
   ]
  },
  {
   "cell_type": "code",
   "execution_count": null,
   "id": "7e669501",
   "metadata": {},
   "outputs": [],
   "source": []
  }
 ],
 "metadata": {
  "kernelspec": {
   "display_name": "Python 3",
   "language": "python",
   "name": "python3"
  },
  "language_info": {
   "codemirror_mode": {
    "name": "ipython",
    "version": 3
   },
   "file_extension": ".py",
   "mimetype": "text/x-python",
   "name": "python",
   "nbconvert_exporter": "python",
   "pygments_lexer": "ipython3",
   "version": "3.8.8"
  }
 },
 "nbformat": 4,
 "nbformat_minor": 5
}
