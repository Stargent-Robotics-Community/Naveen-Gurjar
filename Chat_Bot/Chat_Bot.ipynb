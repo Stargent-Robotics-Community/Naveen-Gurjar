{
 "cells": [
  {
   "cell_type": "code",
   "execution_count": 1,
   "id": "0b581ca2",
   "metadata": {},
   "outputs": [],
   "source": [
    "#This is a basic chat bot which will recommend movies or anime according to the genre specified by the user "
   ]
  },
  {
   "cell_type": "code",
   "execution_count": 2,
   "id": "b0c9d222",
   "metadata": {},
   "outputs": [],
   "source": [
    "import datetime"
   ]
  },
  {
   "cell_type": "code",
   "execution_count": 3,
   "id": "4110310c",
   "metadata": {},
   "outputs": [],
   "source": [
    "import pyttsx3 as pts"
   ]
  },
  {
   "cell_type": "code",
   "execution_count": 4,
   "id": "d88db41d",
   "metadata": {},
   "outputs": [],
   "source": [
    "engine = pts.init()"
   ]
  },
  {
   "cell_type": "code",
   "execution_count": 5,
   "id": "b2dde9c7",
   "metadata": {},
   "outputs": [],
   "source": [
    "def speak(input):\n",
    "    engine.say(input)\n",
    "    engine.runAndWait()"
   ]
  },
  {
   "cell_type": "code",
   "execution_count": 6,
   "id": "b80fe002",
   "metadata": {},
   "outputs": [],
   "source": [
    "import speech_recognition as sr"
   ]
  },
  {
   "cell_type": "code",
   "execution_count": 7,
   "id": "c95e56f1",
   "metadata": {},
   "outputs": [],
   "source": [
    "r = sr.Recognizer()"
   ]
  },
  {
   "cell_type": "code",
   "execution_count": 8,
   "id": "452cade9",
   "metadata": {},
   "outputs": [],
   "source": [
    "def listen():\n",
    "    with sr.Microphone() as source:\n",
    "        r.adjust_for_ambient_noise(source)\n",
    "        r.pause_threshold=1\n",
    "        print(\"Microphone is started, please speak\")\n",
    "        audio = r.listen(source)\n",
    "        try:\n",
    "            text = r.recognize_google(audio, language ='en-in')\n",
    "            print(text)\n",
    "        except:\n",
    "            print(\"please speak again\")\n",
    "        return text    "
   ]
  },
  {
   "cell_type": "code",
   "execution_count": 9,
   "id": "36c7c085",
   "metadata": {},
   "outputs": [],
   "source": [
    "def wishMe():\n",
    "    hour = int(datetime.datetime.now().hour)\n",
    "    if hour>= 0 and hour<12:\n",
    "        speak(\"Good Morning!\")\n",
    "  \n",
    "    elif hour>= 12 and hour<18:\n",
    "        speak(\"Good Afternoon!\")  \n",
    "  \n",
    "    else:\n",
    "        speak(\"Good Evening!\")"
   ]
  },
  {
   "cell_type": "code",
   "execution_count": 10,
   "id": "c9d47ab0",
   "metadata": {},
   "outputs": [],
   "source": [
    "wishMe()\n",
    "speak(\"How are you\")"
   ]
  },
  {
   "cell_type": "code",
   "execution_count": 11,
   "id": "94697c10",
   "metadata": {},
   "outputs": [
    {
     "name": "stdout",
     "output_type": "stream",
     "text": [
      "Animation or Movie\n",
      "Microphone is started, please speak\n",
      "animation\n"
     ]
    }
   ],
   "source": [
    "speak(\"What would you like to watch\")\n",
    "speak(\"Animation or Movie\")\n",
    "print(\"Animation or Movie\")\n",
    "#I mean anime but I couln't use it because the term anime was getting recognised as animal, so I used the alternative.\n",
    "category = listen().lower()"
   ]
  },
  {
   "cell_type": "code",
   "execution_count": 12,
   "id": "2510f23c",
   "metadata": {},
   "outputs": [
    {
     "name": "stdout",
     "output_type": "stream",
     "text": [
      "Microphone is started, please speak\n",
      "isekai\n"
     ]
    }
   ],
   "source": [
    "speak(\"What genre do you want to watch\")\n",
    "#chose from the following genres:\n",
    "#Movie : Science Fiction, Comedy, Action, Horror\n",
    "#Anime : Thriller, Isekai, Comdey, Shounen, Sports, Slice of Life\n",
    "genre = listen().lower()"
   ]
  },
  {
   "cell_type": "code",
   "execution_count": 13,
   "id": "c811e106",
   "metadata": {},
   "outputs": [
    {
     "name": "stdout",
     "output_type": "stream",
     "text": [
      "Here is a list of recommendations:\n",
      "The time I got reincarnated as slime \n",
      "Overlord \n",
      "Jobless Reincarnation \n",
      "The Rising of Shield hero\n"
     ]
    }
   ],
   "source": [
    "print(\"Here is a list of recommendations:\")\n",
    "speak(\"Here is a list of recommendations\")\n",
    "\n",
    "if category == \"movie\" and genre == \"science fiction\":\n",
    "    print(\"Interstellar \\nGravity \\nThe Martian \\nReady Player one\")\n",
    "    speak(\"Interstellar, Gravity, The Martian, Ready Player one\")\n",
    "    speak(\"Hope you like them\")\n",
    "\n",
    "elif category == \"movie\" and genre == \"comedy\":\n",
    "    print(\"The Hangover \\nGrown Ups \\nWhy Him \\nThe Dictator\")\n",
    "    speak(\"The Hangover, Grown Ups, Why Him, The Dictator\")\n",
    "    speak(\"Hope you like them\")\n",
    "\n",
    "elif category == \"movie\" and genre == \"action\":\n",
    "    print(\"Jhon Wick \\nThe Expandables \\nBad Boys \\nG I Joe\")\n",
    "    speak(\"Jhon Wick, The Expandables, Bad Boys, I Joe\")\n",
    "    speak(\"Hope you like them\")\n",
    "\n",
    "elif category == \"movie\" and genre == \"horror\":\n",
    "    print(\"The Conjuring \\nAnnabelle \\nIT \\nThe Nun\")\n",
    "    speak(\"The Conjuring, Annabelle, IT, The Nun\")\n",
    "    speak(\"Hope you like them\")\n",
    "\n",
    "elif category == \"animation\" and genre == \"thriller\":\n",
    "    print(\"Death Note \\nPsycho Pass \\nAttack on titan \\nCode Geass\")\n",
    "    speak(\"Death Note, Psycho Pass, Attack on titan, Code Geass\")\n",
    "    speak(\"Hope you like them\")\n",
    "\n",
    "elif category == \"animation\" and genre == \"isekai\":\n",
    "    print(\"The time I got reincarnated as slime \\nOverlord \\nJobless Reincarnation \\nThe Rising of Shield hero\")\n",
    "    speak(\"The time I got reincarnated as slime, Overlord, Jobless Reincarnation, The Rising of Shield hero\")\n",
    "    speak(\"Hope you like them\")\n",
    "    \n",
    "elif category == \"animation\" and genre == \"comedy\":\n",
    "    print(\"Grand Blue \\nKonosuba\")\n",
    "    speak(\"Grand Blue, Konosuba\")\n",
    "    speak(\"Hope you like them\")\n",
    "\n",
    "elif category == \"animation\" and genre == \"shounen\":\n",
    "    print(\"Naruto \\nOne Piece \\nHunter X Huntern \\nBlack Clover\")\n",
    "    speak(\"Naruto \\nOne Piece \\nHunter X Huntern \\nBlack Clover\")\n",
    "    speak(\"Hope you like them\")\n",
    "    \n",
    "elif category == \"animation\" and genre == \"sports\":\n",
    "    print(\"Haikyuu \\nKuroko No Basuke\")\n",
    "    speak(\"Haikyuu, Kuroko No Basuke\")\n",
    "    speak(\"Hope you like them\")\n",
    "    \n",
    "elif category == \"animation\" and genre == \"slice of life\":\n",
    "    print(\"Horimiya \\nTsuki Ga Kire \\nOrange \\nJust Because\")\n",
    "    speak(\"Horimiya, Tsuki Ga Kire, Orange, Just Because\")\n",
    "    speak(\"Hope you like them\")"
   ]
  }
 ],
 "metadata": {
  "kernelspec": {
   "display_name": "Python 3",
   "language": "python",
   "name": "python3"
  },
  "language_info": {
   "codemirror_mode": {
    "name": "ipython",
    "version": 3
   },
   "file_extension": ".py",
   "mimetype": "text/x-python",
   "name": "python",
   "nbconvert_exporter": "python",
   "pygments_lexer": "ipython3",
   "version": "3.8.8"
  }
 },
 "nbformat": 4,
 "nbformat_minor": 5
}
